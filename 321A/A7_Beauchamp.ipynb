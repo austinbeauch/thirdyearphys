{
 "cells": [
  {
   "cell_type": "code",
   "execution_count": 1,
   "metadata": {},
   "outputs": [],
   "source": [
    "from numpy import *\n",
    "from matplotlib.pyplot import *\n",
    "from scipy.integrate import odeint"
   ]
  },
  {
   "cell_type": "code",
   "execution_count": 2,
   "metadata": {},
   "outputs": [],
   "source": [
    "b = 1\n",
    "k = 1\n",
    "m1 = m2 = 1"
   ]
  },
  {
   "cell_type": "code",
   "execution_count": 3,
   "metadata": {},
   "outputs": [],
   "source": [
    "# the function defining the right-hand sides of the ODEs\n",
    "def dz_dt(z, t):\n",
    "    z1, z2, z3, z4, z5, z6, z7, z8 = z\n",
    "    \n",
    "    r21 = sqrt((z5-z1)**2+(z7-z3)**2)\n",
    "    r12 = -r21\n",
    "    eps = 1e-6\n",
    "    if r21 < eps:\n",
    "        r21 = eps\n",
    "        \n",
    "    F12 = k*b**2 / r12\n",
    "    dzdt = [z2, F12*(z5-z1)/m1, z4, F12*(z7-z3)/m1,\\\n",
    "            z6, -F12*(z5-z1)/m2, z8, -F12*(z7-z3)/m2]\n",
    "    return dzdt"
   ]
  },
  {
   "cell_type": "code",
   "execution_count": 4,
   "metadata": {},
   "outputs": [],
   "source": [
    "v1x_i = 10\n",
    "z0 = [-10,v1x_i,0.5,0,0,0,-0.5,0]"
   ]
  },
  {
   "cell_type": "code",
   "execution_count": 5,
   "metadata": {},
   "outputs": [],
   "source": [
    "t_start = 0\n",
    "t_end = 5\n",
    "nt = 10000\n",
    "t = np.linspace(t_start, t_end, nt)\n",
    "sol = odeint(dz_dt, z0, t)"
   ]
  },
  {
   "cell_type": "code",
   "execution_count": 6,
   "metadata": {},
   "outputs": [],
   "source": [
    "x1, v1x, y1, v1y, x2, v2x, y2, v2y = sol.T"
   ]
  },
  {
   "cell_type": "code",
   "execution_count": 7,
   "metadata": {},
   "outputs": [],
   "source": [
    "r1 = sqrt(x1**2 + y1**2)\n",
    "r2 = sqrt(x2**2 + y2**2)"
   ]
  },
  {
   "cell_type": "code",
   "execution_count": 8,
   "metadata": {},
   "outputs": [],
   "source": [
    "mask = r1-r2 <= 10\n",
    "x1, y1, x2, y2 = x1[mask], y1[mask], x2[mask], y2[mask]"
   ]
  },
  {
   "cell_type": "code",
   "execution_count": 9,
   "metadata": {},
   "outputs": [
    {
     "data": {
      "image/png": "[encoded data removed]",
      "text/plain": [
       "<Figure size 720x504 with 1 Axes>"
      ]
     },
     "metadata": {
      "needs_background": "light"
     },
     "output_type": "display_data"
    }
   ],
   "source": [
    "figure(figsize=(10,7))\n",
    "plot(x1, y1, x2, y2)\n",
    "legend([\"Incident\", \"Scattered\"])\n",
    "title(\"Repelling particle trajectory\")\n",
    "xlabel(\"x (m)\")\n",
    "ylabel(\"y (m)\")\n",
    "show()"
   ]
  },
  {
   "cell_type": "code",
   "execution_count": 16,
   "metadata": {},
   "outputs": [
    {
     "name": "stdout",
     "output_type": "stream",
     "text": [
      "Incident scattering angle is 5.2 degrees\n",
      "Recoiling scattering angle is -89.9 degrees\n",
      "The sum is -84.7 degrees\n",
      "The sum is not 90 degrees, but the angles are depend on the section selected and are not exact\n"
     ]
    }
   ],
   "source": [
    "nn = 50\n",
    "tan_incident = (y1[-nn]-y1[-1])/(x1[-nn]-x1[-1])\n",
    "incident = 180 * (arctan(tan_incident)/pi)\n",
    "\n",
    "tan_scattered = (y2[-nn]-y2[-1])/(x2[-nn]-x2[-1])\n",
    "scattered = 180 * (arctan(tan_scattered)/pi)\n",
    "\n",
    "print(f\"Incident scattering angle is {round(incident,1)} degrees\")\n",
    "print(f\"Recoiling scattering angle is {round(scattered,1)} degrees\")\n",
    "print(f\"The sum is {round(incident+scattered, 1)} degrees\")\n",
    "print(\"The sum is not 90 degrees, but the angles are depend on the section selected and are not exact\")"
   ]
  },
  {
   "cell_type": "code",
   "execution_count": 12,
   "metadata": {},
   "outputs": [],
   "source": [
    "p1x_i = m1 * v1x_i\n",
    "\n",
    "p1x_f = m1 * v1x[-1]\n",
    "p1y_f = m1 * v1y[-1]\n",
    "\n",
    "p2x_f = m2 * v2x[-1]\n",
    "p2y_f = m2 * v2y[-1]"
   ]
  },
  {
   "cell_type": "code",
   "execution_count": 14,
   "metadata": {},
   "outputs": [
    {
     "name": "stdout",
     "output_type": "stream",
     "text": [
      "Initial incoming x momentum = 10\n",
      "Total final x moment = 9.999999999999993\n",
      "Total final y moment = 0.0\n",
      "Momentum is conserved. (floating point digits are not)\n"
     ]
    }
   ],
   "source": [
    "print(f\"Initial incoming x momentum = {p1x_i}\")\n",
    "print(f\"Total final x moment = {p1x_f + p2x_f}\")\n",
    "print(f\"Total final y moment = {p1y_f + p2y_f}\")\n",
    "print(\"Momentum is conserved. (floating point digits are not)\")"
   ]
  },
  {
   "cell_type": "code",
   "execution_count": null,
   "metadata": {},
   "outputs": [],
   "source": []
  }
 ],
 "metadata": {
  "kernelspec": {
   "display_name": "Python 3",
   "language": "python",
   "name": "python3"
  },
  "language_info": {
   "codemirror_mode": {
    "name": "ipython",
    "version": 3
   },
   "file_extension": ".py",
   "mimetype": "text/x-python",
   "name": "python",
   "nbconvert_exporter": "python",
   "pygments_lexer": "ipython3",
   "version": "3.7.3"
  }
 },
 "nbformat": 4,
 "nbformat_minor": 4
}
