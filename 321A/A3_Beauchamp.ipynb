{
 "cells": [
  {
   "cell_type": "code",
   "execution_count": 58,
   "metadata": {},
   "outputs": [],
   "source": [
    "import numpy as np\n",
    "from matplotlib import pyplot as plt\n",
    "from scipy.integrate import odeint\n",
    "from scipy.interpolate import interp1d\n",
    "from scipy.signal import find_peaks\n",
    "from scipy.interpolate import interp1d"
   ]
  },
  {
   "cell_type": "code",
   "execution_count": 59,
   "metadata": {},
   "outputs": [],
   "source": [
    "m = 100\n",
    "r = 0.2\n",
    "A = np.pi * r**2  # cross-sectional area\n",
    "Cd = 0.47  # the dimensionless air-drag coefficient\n",
    "g = 9.8  # the gravitational accelation on the surface of Earth (in m/s**2)\n",
    "rhoa = 1.  # the air density (in kg/m**3)\n",
    "c2 = 0.5*Cd*rhoa*A"
   ]
  },
  {
   "cell_type": "code",
   "execution_count": 60,
   "metadata": {},
   "outputs": [],
   "source": [
    "# the function defining the right-hand sides of the ODEs\n",
    "def dy_dt(y, t, a, b, vw):\n",
    "    y1, y2, y3, y4 = y\n",
    "    dydt = [y2, b*(y2+vw)*np.sqrt((y2+vw)**2+y4**2), y4, a+b*y4*np.sqrt((y2+vw)**2+y4**2)]\n",
    "    return dydt\n",
    "\n",
    "def intercept(x, y, i=0):\n",
    "    # x: independent variable, i.e. time. Value returned corresponds to the intercept along this axis\n",
    "    # x: dependent variable to find the intercept\n",
    "    # i: intercept value\n",
    "    return round(x[np.argwhere(x<=i)[0][0]])"
   ]
  },
  {
   "cell_type": "code",
   "execution_count": 61,
   "metadata": {},
   "outputs": [],
   "source": [
    "t_start = 0\n",
    "t_end = 120\n",
    "n = 10000\n",
    "t = np.linspace(t_start, t_end, n)\n",
    "\n",
    "a = -g\n",
    "b = -c2/m\n",
    "wind = 26.8224  # speed, converted to m/s"
   ]
  },
  {
   "cell_type": "code",
   "execution_count": 83,
   "metadata": {},
   "outputs": [
    {
     "name": "stdout",
     "output_type": "stream",
     "text": [
      "Required ground speed is 203.567mph to hit the target.\n",
      "The trailing side is linear due to the bomb hitting terminal velocity. The wind is completely horizontal so only drag causes the bomb to slow down its vertical velocity\n"
     ]
    },
    {
     "data": {
      "image/png": "[encoded data removed]",
      "text/plain": [
       "<Figure size 432x288 with 1 Axes>"
      ]
     },
     "metadata": {},
     "output_type": "display_data"
    }
   ],
   "source": [
    "speed = 0\n",
    "while True:\n",
    "    y0 = [0, speed, 50000/3, 0]  # x, Vx, y, Vy initial conditions\n",
    "    x, vx, y, vy  = odeint(dy_dt, y0, t, args=(a, b, wind)).T\n",
    "    fx = interp1d(y, x)\n",
    "    hit = fx(0)\n",
    "    if hit >= 0:\n",
    "        print(f\"Required ground speed is {speed*2.237}mph to hit the target.\")\n",
    "        plt.plot(x[x>0], y[x>0])\n",
    "        plt.title(f\"Height vs horizontal position for dropping a bomb at {speed*2.237}mph in {wind}mph winds\")\n",
    "        plt.xlabel(\"X position\")\n",
    "        plt.ylabel(\"Height\")\n",
    "        break\n",
    "    \n",
    "    speed += 1\n",
    "print(\"The trailing side is linear due to the bomb hitting terminal velocity. \\\n",
    "The wind is completely horizontal so only drag causes the bomb to slow down its vertical \\\n",
    "velocity\")"
   ]
  },
  {
   "cell_type": "code",
   "execution_count": 98,
   "metadata": {},
   "outputs": [
    {
     "name": "stdout",
     "output_type": "stream",
     "text": [
      "hit\n",
      "The planes speed must be within 24.607mph to hit within 100m\n"
     ]
    }
   ],
   "source": [
    "speed = 0\n",
    "r = []\n",
    "while True:\n",
    "    y0 = [0, speed, 50000/3, 0]  # x, Vx, y, Vy initial conditions\n",
    "    x, vx, y, vy  = odeint(dy_dt, y0, t, args=(a, b, wind)).T\n",
    "    fx = interp1d(y, x)\n",
    "    hit = fx(0)\n",
    "    if hit >= -100 and len(r) == 0:\n",
    "        r.append(speed)\n",
    "        print(\"hit\")\n",
    "    if hit >= 100 and len(r) == 1:\n",
    "        r.append(speed)\n",
    "        print(f\"The planes speed must be within {(r[1]-r[0])*2.237}mph to hit within 100m\")\n",
    "        break\n",
    "    speed += 1"
   ]
  },
  {
   "cell_type": "code",
   "execution_count": null,
   "metadata": {},
   "outputs": [],
   "source": []
  }
 ],
 "metadata": {
  "kernelspec": {
   "display_name": "Python 3",
   "language": "python",
   "name": "python3"
  },
  "language_info": {
   "codemirror_mode": {
    "name": "ipython",
    "version": 3
   },
   "file_extension": ".py",
   "mimetype": "text/x-python",
   "name": "python",
   "nbconvert_exporter": "python",
   "pygments_lexer": "ipython3",
   "version": "3.6.5"
  }
 },
 "nbformat": 4,
 "nbformat_minor": 4
}
