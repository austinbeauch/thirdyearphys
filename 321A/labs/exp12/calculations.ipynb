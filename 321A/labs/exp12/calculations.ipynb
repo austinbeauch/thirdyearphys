{
 "cells": [
  {
   "cell_type": "code",
   "execution_count": 1,
   "metadata": {},
   "outputs": [],
   "source": [
    "import numpy as np"
   ]
  },
  {
   "cell_type": "code",
   "execution_count": 95,
   "metadata": {},
   "outputs": [],
   "source": [
    "trial1 = [33,27,21,18,15,10,8,5,2]\n",
    "trial2 = [29,25,20,16,12,10,6,4,1]\n",
    "trial3 = [40,32,27,22,17,14,10,6,3,1]\n",
    "trial4 = [36,29,35,21,15,13,19,6,2,0]\n",
    "water1 = [46,33,24,18,16,13,10,9,8,6,4,4,2]\n",
    "water2 = [47,33,24,19,16,13,10,9,8,6,5,4,2,2]"
   ]
  },
  {
   "cell_type": "code",
   "execution_count": 108,
   "metadata": {},
   "outputs": [],
   "source": [
    "def eq12_16(trial, T=0.56):\n",
    "    ratio = []\n",
    "    for index, _ in enumerate(trial):\n",
    "        try:\n",
    "            r = trial[index] / trial[index+1]\n",
    "            ratio.append(r)\n",
    "        except (IndexError, ZeroDivisionError):\n",
    "            pass    \n",
    "    return np.log(np.mean(ratio))/T"
   ]
  },
  {
   "cell_type": "code",
   "execution_count": 109,
   "metadata": {},
   "outputs": [
    {
     "data": {
      "text/plain": [
       "0.0915756475765471"
      ]
     },
     "execution_count": 109,
     "metadata": {},
     "output_type": "execute_result"
    }
   ],
   "source": [
    "eq12_16(trial2, 5.6)"
   ]
  },
  {
   "cell_type": "code",
   "execution_count": 110,
   "metadata": {},
   "outputs": [
    {
     "data": {
      "text/plain": [
       "0.49435968668023134"
      ]
     },
     "execution_count": 110,
     "metadata": {},
     "output_type": "execute_result"
    }
   ],
   "source": [
    "eq12_16(water1)"
   ]
  },
  {
   "cell_type": "code",
   "execution_count": null,
   "metadata": {},
   "outputs": [],
   "source": []
  }
 ],
 "metadata": {
  "kernelspec": {
   "display_name": "Python 3",
   "language": "python",
   "name": "python3"
  },
  "language_info": {
   "codemirror_mode": {
    "name": "ipython",
    "version": 3
   },
   "file_extension": ".py",
   "mimetype": "text/x-python",
   "name": "python",
   "nbconvert_exporter": "python",
   "pygments_lexer": "ipython3",
   "version": "3.7.3"
  }
 },
 "nbformat": 4,
 "nbformat_minor": 4
}
