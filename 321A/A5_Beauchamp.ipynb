{
 "cells": [
  {
   "cell_type": "code",
   "execution_count": 1,
   "metadata": {},
   "outputs": [],
   "source": [
    "import numpy as np\n",
    "import matplotlib.pyplot as plt\n",
    "from sympy import *"
   ]
  },
  {
   "cell_type": "code",
   "execution_count": 2,
   "metadata": {},
   "outputs": [
    {
     "data": {
      "text/latex": [
       "$\\displaystyle x^{3} \\left(\\frac{5 \\cos^{3}{\\left(\\theta \\right)}}{2} - \\frac{3 \\cos{\\left(\\theta \\right)}}{2}\\right) + x^{2} \\left(\\frac{3 \\cos^{2}{\\left(\\theta \\right)}}{2} - \\frac{1}{2}\\right) + x \\cos{\\left(\\theta \\right)} + 1$"
      ],
      "text/plain": [
       "x**3*(5*cos(theta)**3/2 - 3*cos(theta)/2) + x**2*(3*cos(theta)**2/2 - 1/2) + x*cos(theta) + 1"
      ]
     },
     "execution_count": 2,
     "metadata": {},
     "output_type": "execute_result"
    }
   ],
   "source": [
    "x, r, R, theta, mu, G, M, g = symbols('x r R theta mu G M g')\n",
    "n = symbols('n', integer=True)\n",
    "f, genfun, phi = symbols('f genfun phi', cls=Function)\n",
    "genfun = 1/sqrt(1+x**2-2*x*cos(theta))\n",
    "getfunc_trunc = (genfun.series(x,0,4)).removeO()\n",
    "getfunc_trunc"
   ]
  },
  {
   "cell_type": "code",
   "execution_count": 3,
   "metadata": {},
   "outputs": [
    {
     "data": {
      "text/plain": [
       "[1, cos(theta), (3*cos(theta)**2 - 1)/2, (5*cos(theta)**2 - 3)*cos(theta)/2]"
      ]
     },
     "execution_count": 3,
     "metadata": {},
     "output_type": "execute_result"
    }
   ],
   "source": [
    "[getfunc_trunc.coeff(x,i).factor() for i in range(4)]"
   ]
  },
  {
   "cell_type": "code",
   "execution_count": 4,
   "metadata": {},
   "outputs": [
    {
     "data": {
      "text/latex": [
       "$\\displaystyle \\frac{\\pi x^{2}}{4} + \\pi$"
      ],
      "text/plain": [
       "pi*x**2/4 + pi"
      ]
     },
     "execution_count": 4,
     "metadata": {},
     "output_type": "execute_result"
    }
   ],
   "source": [
    "coeff = [getfunc_trunc.coeff(x,i).factor() for i in range(4)]\n",
    "integral = integrate(getfunc_trunc, (theta, 0, pi))\n",
    "integral"
   ]
  },
  {
   "cell_type": "code",
   "execution_count": 5,
   "metadata": {},
   "outputs": [
    {
     "data": {
      "text/latex": [
       "$\\displaystyle - 2 G \\mu \\left(\\frac{\\pi x^{2}}{4} + \\pi\\right)$"
      ],
      "text/plain": [
       "-2*G*mu*(pi*x**2/4 + pi)"
      ]
     },
     "execution_count": 5,
     "metadata": {},
     "output_type": "execute_result"
    }
   ],
   "source": [
    "phi = -2*mu*G*integral\n",
    "phi"
   ]
  },
  {
   "cell_type": "code",
   "execution_count": 6,
   "metadata": {},
   "outputs": [
    {
     "name": "stdout",
     "output_type": "stream",
     "text": [
      "The gravitational potential of the ring is\n"
     ]
    },
    {
     "data": {
      "text/latex": [
       "$\\displaystyle - \\frac{G M \\left(\\pi + \\frac{\\pi r^{2}}{4 R^{2}}\\right)}{\\pi R}$"
      ],
      "text/plain": [
       "-G*M*(pi + pi*r**2/(4*R**2))/(pi*R)"
      ]
     },
     "execution_count": 6,
     "metadata": {},
     "output_type": "execute_result"
    }
   ],
   "source": [
    "# substitute mu expressed via M, R, and r in phi\n",
    "potential = phi.subs({mu:M/(2*pi*R), x:r/R})\n",
    "print (\"The gravitational potential of the ring is\")\n",
    "potential"
   ]
  },
  {
   "cell_type": "code",
   "execution_count": 7,
   "metadata": {},
   "outputs": [
    {
     "name": "stdout",
     "output_type": "stream",
     "text": [
      "The gravitational potential of Jupiter's ring at Earths's orbit is -164410 SI units\n"
     ]
    }
   ],
   "source": [
    "RJ = 7.784e11  # radius of Jupiter's orbit in m\n",
    "MJ = 1.90e27   # Jupiter's mass in kg\n",
    "GN = 6.674e-11 # Newton's gravitational constant in SI units\n",
    "RE = 1.496e11  # radius of earths's orbit in m\n",
    "\n",
    "fJS = (potential.subs({G:GN, M:MJ, R:RJ, r:RE, R:RJ}))\n",
    "\n",
    "print (f\"The gravitational potential of Jupiter's ring \\\n",
    "at Earths's orbit is {round(fJS)} SI units\")"
   ]
  },
  {
   "cell_type": "code",
   "execution_count": 8,
   "metadata": {},
   "outputs": [],
   "source": [
    "def discrete_phi(N, M, R, r):\n",
    "    Mi = M/N\n",
    "    alpha = 2*np.pi/N\n",
    "    \n",
    "    total = 0\n",
    "    for n in range(N):\n",
    "        # calculate distance between earth and each mass\n",
    "        x_n = R * cos(n * alpha)\n",
    "        y_n = R * sin(n * alpha)\n",
    "        distance = sqrt((x_n-r)**2 + y_n**2)\n",
    "        \n",
    "        total += -GN*Mi / distance\n",
    "    \n",
    "    return total"
   ]
  },
  {
   "cell_type": "code",
   "execution_count": 9,
   "metadata": {},
   "outputs": [],
   "source": [
    "def approx(m1, r1, r2):\n",
    "    xs = []\n",
    "    ys = []\n",
    "    i = 2\n",
    "    last = 999\n",
    "    while True:\n",
    "        y = discrete_phi(i, m1, r1, r2)\n",
    "        xs.append(i)\n",
    "        ys.append(y)    \n",
    "        if abs(last-y) < 1/1e4 or i > 100000:\n",
    "            break\n",
    "        last = y\n",
    "        i *= 2\n",
    "    return i, y\n"
   ]
  },
  {
   "cell_type": "code",
   "execution_count": 14,
   "metadata": {},
   "outputs": [
    {
     "name": "stdout",
     "output_type": "stream",
     "text": [
      "Broke at i=32 masses with a potential of -164442 SI units.\n",
      "This result is close to part (b) \n"
     ]
    }
   ],
   "source": [
    "i, y = approx(MJ, RJ, RE)\n",
    "print(f\"Broke at i={i} masses with a potential of {round(y)} SI units.\\nThis result is close to part (b) \")"
   ]
  },
  {
   "cell_type": "code",
   "execution_count": 11,
   "metadata": {},
   "outputs": [],
   "source": [
    "rs = []\n",
    "diffs = []\n",
    "phi_0 = approx(MJ, RJ, 0)[1]\n",
    "for scale in [0, 0.2, 0.4, 0.6, 0.8]:\n",
    "    i, y = approx(MJ, RJ, RE*scale)\n",
    "    rs.append(RE*scale)\n",
    "    diffs.append(abs(y - phi_0))"
   ]
  },
  {
   "cell_type": "code",
   "execution_count": 12,
   "metadata": {},
   "outputs": [],
   "source": [
    "rs = np.array(rs, dtype='float')\n",
    "diffs = np.array(diffs, dtype='float')\n",
    "x2, x1, x0 = np.polyfit(rs, diffs, 2)\n",
    "dom = np.linspace(0, rs[-1])"
   ]
  },
  {
   "cell_type": "code",
   "execution_count": 13,
   "metadata": {},
   "outputs": [
    {
     "data": {
      "image/png": "[encoded data removed]",
      "text/plain": [
       "<Figure size 720x576 with 1 Axes>"
      ]
     },
     "metadata": {
      "needs_background": "light"
     },
     "output_type": "display_data"
    },
    {
     "name": "stdout",
     "output_type": "stream",
     "text": [
      "We see that this resembles a quadratic relation.\n"
     ]
    }
   ],
   "source": [
    "plt.figure(figsize=(10,8))\n",
    "plt.plot(rs, diffs, label=\"Potential difference\")\n",
    "plt.plot(dom, x2*dom**2 + x1*dom + x0, label=\"Quadratic fit\")\n",
    "plt.xlabel(\"Earths orbital radius, r\")\n",
    "plt.ylabel(\"Gravitational Potential Difference, $|\\Phi (r)-\\Phi (0)|$\")\n",
    "plt.legend()\n",
    "plt.show()\n",
    "print(\"We see that this resembles a quadratic relation.\")"
   ]
  },
  {
   "cell_type": "code",
   "execution_count": null,
   "metadata": {},
   "outputs": [],
   "source": []
  }
 ],
 "metadata": {
  "kernelspec": {
   "display_name": "Python 3",
   "language": "python",
   "name": "python3"
  },
  "language_info": {
   "codemirror_mode": {
    "name": "ipython",
    "version": 3
   },
   "file_extension": ".py",
   "mimetype": "text/x-python",
   "name": "python",
   "nbconvert_exporter": "python",
   "pygments_lexer": "ipython3",
   "version": "3.7.3"
  }
 },
 "nbformat": 4,
 "nbformat_minor": 4
}
