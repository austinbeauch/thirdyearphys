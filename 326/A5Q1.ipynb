{
 "cells": [
  {
   "cell_type": "code",
   "execution_count": 1,
   "metadata": {},
   "outputs": [],
   "source": [
    "from numpy import *"
   ]
  },
  {
   "cell_type": "code",
   "execution_count": 63,
   "metadata": {},
   "outputs": [],
   "source": [
    "V0 = 1\n",
    "a = 1\n",
    "terms = 4\n",
    "def V(x, y, z, terms=1):\n",
    "    v = 0\n",
    "    for n in range(1, terms*2+1, 2):\n",
    "        for m in range(1, terms*2+1, 2):\n",
    "            v += sinh(pi*z*sqrt(n**2+m**2)/a) \\\n",
    "                 * sin(n*pi*x/a) \\\n",
    "                 * sin(m*pi*y/a) \\\n",
    "                 / sinh(pi*sqrt(n**2+m**2)) \\\n",
    "                 / (m*n)\n",
    "    return v * 16 * V0 / pi**2"
   ]
  },
  {
   "cell_type": "code",
   "execution_count": 64,
   "metadata": {},
   "outputs": [
    {
     "name": "stdout",
     "output_type": "stream",
     "text": [
      "0.1666664687708388\n"
     ]
    }
   ],
   "source": [
    "v = V(a/2, a/2, a/2, 4)\n",
    "print(v)"
   ]
  },
  {
   "cell_type": "code",
   "execution_count": 65,
   "metadata": {},
   "outputs": [
    {
     "name": "stdout",
     "output_type": "stream",
     "text": [
      "Relative error of 0.00012%\n"
     ]
    }
   ],
   "source": [
    "t = V0/6\n",
    "print(f\"Relative error of {round(abs(t-v)/t * 100, 5)}%\")"
   ]
  },
  {
   "cell_type": "code",
   "execution_count": null,
   "metadata": {},
   "outputs": [],
   "source": []
  }
 ],
 "metadata": {
  "kernelspec": {
   "display_name": "Python 3",
   "language": "python",
   "name": "python3"
  },
  "language_info": {
   "codemirror_mode": {
    "name": "ipython",
    "version": 3
   },
   "file_extension": ".py",
   "mimetype": "text/x-python",
   "name": "python",
   "nbconvert_exporter": "python",
   "pygments_lexer": "ipython3",
   "version": "3.6.5"
  }
 },
 "nbformat": 4,
 "nbformat_minor": 2
}
