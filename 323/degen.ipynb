{
 "cells": [
  {
   "cell_type": "code",
   "execution_count": 2,
   "metadata": {},
   "outputs": [],
   "source": [
    "from numpy import *"
   ]
  },
  {
   "cell_type": "code",
   "execution_count": 15,
   "metadata": {},
   "outputs": [
    {
     "name": "stdout",
     "output_type": "stream",
     "text": [
      "Add 0 0 0 0.9166666666666666\n",
      "Add 0 0 1 1.4166666666666665\n",
      "Add 0 0 2 1.9166666666666665\n",
      "Add 0 0 3 2.4166666666666665\n",
      "Add 0 0 4 2.9166666666666665\n",
      "Add 0 0 5 3.4166666666666665\n",
      "Add 0 0 6 3.9166666666666665\n",
      "Add 0 0 7 4.416666666666667\n",
      "Add 0 0 8 4.916666666666667\n",
      "Add 0 0 9 5.416666666666667\n",
      "Add 0 1 0 1.25\n",
      "Add 0 1 1 1.75\n",
      "Add 0 1 2 2.25\n",
      "Add 0 1 3 2.75\n",
      "Add 0 1 4 3.25\n",
      "Add 0 2 0 1.5833333333333333\n",
      "Add 0 2 1 2.083333333333333\n",
      "Add 0 2 2 2.583333333333333\n",
      "Repeat 0 3 0 1.9166666666666665\n",
      "Repeat 0 3 1 2.4166666666666665\n",
      "Repeat 0 4 0 2.25\n",
      "Repeat 1 0 0 1.9166666666666665\n",
      "Repeat 1 0 1 2.4166666666666665\n",
      "Repeat 1 1 0 2.25\n",
      "Repeat 1 2 0 2.583333333333333\n"
     ]
    }
   ],
   "source": [
    "n = 12\n",
    "top = []\n",
    "for x in range(n):\n",
    "    for y in range(n):\n",
    "        for z in range(n):\n",
    "            e = x + y/3 + z/2 + 11/12\n",
    "            if 0 <= len(top) < 10:\n",
    "                print(f\"Add {x} {y} {z} {e}\")\n",
    "                top.append(e)\n",
    "                top = sorted(top)\n",
    "                continue\n",
    "                \n",
    "            if e in top:\n",
    "                print(f\"Repeat {x} {y} {z} {e}\")\n",
    "                continue\n",
    "            \n",
    "            if len(top) <= 10 and e<top[-1]:\n",
    "                print(f\"Add {x} {y} {z} {e}\")\n",
    "                top[-1] = e\n",
    "                top = sorted(top)\n",
    "                    "
   ]
  },
  {
   "cell_type": "code",
   "execution_count": 16,
   "metadata": {},
   "outputs": [
    {
     "data": {
      "text/plain": [
       "[0.9166666666666666,\n",
       " 1.25,\n",
       " 1.4166666666666665,\n",
       " 1.5833333333333333,\n",
       " 1.75,\n",
       " 1.9166666666666665,\n",
       " 2.083333333333333,\n",
       " 2.25,\n",
       " 2.4166666666666665,\n",
       " 2.583333333333333]"
      ]
     },
     "execution_count": 16,
     "metadata": {},
     "output_type": "execute_result"
    }
   ],
   "source": [
    "top"
   ]
  },
  {
   "cell_type": "code",
   "execution_count": null,
   "metadata": {},
   "outputs": [],
   "source": []
  }
 ],
 "metadata": {
  "kernelspec": {
   "display_name": "Python 3",
   "language": "python",
   "name": "python3"
  },
  "language_info": {
   "codemirror_mode": {
    "name": "ipython",
    "version": 3
   },
   "file_extension": ".py",
   "mimetype": "text/x-python",
   "name": "python",
   "nbconvert_exporter": "python",
   "pygments_lexer": "ipython3",
   "version": "3.6.5"
  }
 },
 "nbformat": 4,
 "nbformat_minor": 2
}
