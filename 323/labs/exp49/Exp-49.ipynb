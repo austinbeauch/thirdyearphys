{
 "cells": [
  {
   "cell_type": "code",
   "execution_count": 1,
   "metadata": {},
   "outputs": [],
   "source": [
    "import numpy as np\n",
    "import scipy"
   ]
  },
  {
   "cell_type": "code",
   "execution_count": 2,
   "metadata": {},
   "outputs": [],
   "source": [
    "def relunc(unc,value):\n",
    "    return (unc/value)*100"
   ]
  },
  {
   "cell_type": "code",
   "execution_count": 3,
   "metadata": {},
   "outputs": [],
   "source": [
    "def absunc(rel_unc,value):\n",
    "    return value*(rel_unc/100)"
   ]
  },
  {
   "cell_type": "code",
   "execution_count": 4,
   "metadata": {},
   "outputs": [],
   "source": [
    "def unc_multi(unc=[]):\n",
    "    return np.sqrt(sum([i**2 for i in unc]))"
   ]
  },
  {
   "cell_type": "code",
   "execution_count": 5,
   "metadata": {},
   "outputs": [],
   "source": [
    "def consistency_check(A,B,deltaA,deltaB):\n",
    "    return (np.abs(A-B))<=(deltaA+deltaB)"
   ]
  },
  {
   "cell_type": "code",
   "execution_count": 6,
   "metadata": {},
   "outputs": [],
   "source": [
    "#everything is in pm\n",
    "#DO NOT TOUCH\n",
    "voltage1=7000\n",
    "voltage2=8000\n",
    "d=0.166e+12\n",
    "d_unc=0.0005e+12\n",
    "a=0.404e+3\n",
    "volt_unc=50"
   ]
  },
  {
   "cell_type": "code",
   "execution_count": 40,
   "metadata": {},
   "outputs": [],
   "source": [
    "#everything here needs to be in mm\n",
    "\n",
    "#7k values Only Change Below\n",
    "R1_7=np.array([1.755, 1.765, 1.796])*5  #YOU CAN TOUCH\n",
    "R2_7=np.array([2.082, 2.102, 2.133])*5  #YOU CAN TOUCH\n",
    "R3_7=np.array([3.071, 3.071, 3.061])*5  #YOU CAN TOUCH\n",
    "R4_7=np.array([3.510, 3.592, 3.612])*5  #YOU CAN TOUCH\n",
    "R5_7=np.array([4.765, 4.806, 4.816])*5  #YOU CAN TOUCH\n",
    "#Only change above^^^\n",
    "R1_7avg=[] #DONT TOUCH\n",
    "R1_7avg.append(np.mean(R1_7)) #DONT TOUCH #DONT TOUCH\n",
    "R1_7avg.append(np.mean(R2_7)) #DONT TOUCH #DONT TOUCH\n",
    "R1_7avg.append(np.mean(R3_7)) #DONT TOUCH #DONT TOUCH #DONT TOUCH\n",
    "R1_7avg.append(np.mean(R4_7)) #DONT TOUCH #DONT TOUCH\n",
    "R1_7avg.append(np.mean(R5_7)) #DONT TOUCH #DONT TOUCH\n",
    "\n",
    "#8k values\n",
    "R1_8=np.array([1.691, 1.711, 1.681])*5  #YOU CAN TOUCH\n",
    "R2_8=np.array([2.005, 2.015, 1.996])*5  #YOU CAN TOUCH\n",
    "R3_8=np.array([2.876, 2.845, 2.855])*5  #YOU CAN TOUCH\n",
    "R4_8=np.array([3.362, 3.352, 3.341])*5  #U CAN TOUCH\n",
    "R5_8=np.array([4.476, 4.425, 4.426])*5  #YOU CAN TOUCH\n",
    "\n",
    "R1_8avg=[]\n",
    "R1_8avg.append(np.mean(R1_8)) #DONT TOUCH #DONT TOUCH\n",
    "R1_8avg.append(np.mean(R2_8)) #DONT TOUCH #DONT TOUCH\n",
    "R1_8avg.append(np.mean(R3_8)) #DONT TOUCH #DONT TOUCH\n",
    "R1_8avg.append(np.mean(R4_8)) #DONT TOUCH #DONT TOUCH\n",
    "R1_8avg.append(np.mean(R5_8)) #DONT TOUCH \n",
    "\n",
    "# dont change this\n",
    "lam=lambda h,k,l,r:a*r/(d*np.sqrt(h**2+k**2+l**2))\n",
    "cyclic=[[1,1,1],[2,0,0],[2,2,0],[2,2,2],[3,1,1],[3,3,1],[3,3,3],[4,2,0],[4,2,2],[4,4,0],[5,1,1]]"
   ]
  },
  {
   "cell_type": "code",
   "execution_count": 41,
   "metadata": {},
   "outputs": [
    {
     "data": {
      "text/plain": [
       "[8.471666666666666,\n",
       " 10.026666666666667,\n",
       " 14.293333333333335,\n",
       " 16.758333333333336,\n",
       " 22.211666666666662]"
      ]
     },
     "execution_count": 41,
     "metadata": {},
     "output_type": "execute_result"
    }
   ],
   "source": [
    "R1_8avg"
   ]
  },
  {
   "cell_type": "code",
   "execution_count": 42,
   "metadata": {},
   "outputs": [],
   "source": [
    "#7k volts\n",
    "lam7k=[]#DONT TOUCH\n",
    "for r in R1_7avg:#DONT TOUCH\n",
    "    lamarray=[]#DONT TOUCH\n",
    "    for k in cyclic:#DONT TOUCH\n",
    "        h,k,l=k#DONT TOUCH\n",
    "        lamarray.append(lam(h,k,l,r*10**9))#DONT TOUCH\n",
    "    lam7k.append(lamarray)#DONT TOUCH"
   ]
  },
  {
   "cell_type": "code",
   "execution_count": 43,
   "metadata": {},
   "outputs": [],
   "source": [
    "#8k volts\n",
    "lam8k=[]#DONT TOUCH\n",
    "for r in R1_8avg:#DONT TOUCH\n",
    "    lamarray=[]#DONT TOUCH\n",
    "    for k in cyclic:#DONT TOUCH\n",
    "        h,k,l=k#DONT TOUCH\n",
    "        lamarray.append(lam(h,k,l,r*10**9))#DONT TOUCH\n",
    "    lam8k.append(lamarray)#DONT TOUCH"
   ]
  },
  {
   "cell_type": "code",
   "execution_count": 44,
   "metadata": {},
   "outputs": [
    {
     "name": "stdout",
     "output_type": "stream",
     "text": [
      "Lambda for voltage 7kV \t Lambda for Voltage8kV ALL IN PM\n",
      "14.66 \t\t\t 13.71\n",
      "Percent uncertainties\n",
      "0.71% \t\t\t 0.62%\n"
     ]
    }
   ],
   "source": [
    "#DONT CHANGE THESE\n",
    "Lambda7k=6.6261e-34/np.sqrt(2*1.602e-19*7000*9.11e-31)*10**12#DONT TOUCH\n",
    "Lambda8k=6.6261e-34/np.sqrt(2*1.602e-19*8000*9.11e-31)*10**12#DONT TOUCH\n",
    "lambda7k_unc=(relunc(volt_unc,voltage1))#DONT TOUCH\n",
    "lambda8k_unc=(relunc(volt_unc,voltage2))#DONT TOUCH\n",
    "print(\"Lambda for voltage 7kV \\t Lambda for Voltage8kV ALL IN PM\")#DONT TOUCH\n",
    "print(f\"{Lambda7k:.2f} \\t\\t\\t {Lambda8k:.2f}\")#DONT TOUCH\n",
    "print(\"Percent uncertainties\")#DONT TOUCH\n",
    "print(f\"{lambda7k_unc:.2f}% \\t\\t\\t {lambda8k_unc:.2f}%\")#DONT TOUCH"
   ]
  },
  {
   "cell_type": "code",
   "execution_count": 45,
   "metadata": {},
   "outputs": [],
   "source": [
    "d_rel=relunc(d_unc,d)#DONT TOUCH"
   ]
  },
  {
   "cell_type": "code",
   "execution_count": 46,
   "metadata": {},
   "outputs": [],
   "source": [
    "#calculates standard deviation uncertainty for each radius#DONT TOUCH\n",
    "r7_std=[np.std(R1_7),np.std(R2_7),np.std(R3_7),np.std(R4_7),np.std(R5_7)]#DONT TOUCH\n",
    "r8_std=[np.std(R1_8),np.std(R2_8),np.std(R3_8),np.std(R4_8),np.std(R5_8)]#DONT TOUCH"
   ]
  },
  {
   "cell_type": "code",
   "execution_count": 47,
   "metadata": {},
   "outputs": [
    {
     "name": "stdout",
     "output_type": "stream",
     "text": [
      "8.86 0.087 8.472 0.062\n",
      "10.528 0.105 10.027 0.039\n",
      "15.338 0.024 14.293 0.065\n",
      "17.857 0.221 16.758 0.043\n",
      "23.978 0.11 22.212 0.119\n"
     ]
    }
   ],
   "source": [
    "for x, y, z, q in zip(R1_7avg, r7_std, R1_8avg, r8_std):\n",
    "    print(round(x,3), round(y,3), round(z,3), round(q,3))"
   ]
  },
  {
   "cell_type": "code",
   "execution_count": 48,
   "metadata": {},
   "outputs": [],
   "source": [
    "#converts uncertainty to relative uncertainty#DONT TOUCH\n",
    "r7_relunc=[relunc(r7_std[x],R1_7avg[x]) for x in range(len(r7_std))]#DONT TOUCH\n",
    "r8_relunc=[relunc(r8_std[x],R1_8avg[x]) for x in range(len(r8_std))]#DONT TOUCH"
   ]
  },
  {
   "cell_type": "code",
   "execution_count": 49,
   "metadata": {},
   "outputs": [],
   "source": [
    "#calculates relative uncertainty for lambda stars#DONT TOUCH\n",
    "lam_star7k_rel=[unc_multi([relunc(d_unc,d),r7_relunc[k]]) for k in range(len(r7_relunc))]#DONT TOUCH\n",
    "lam_star8k_rel=[unc_multi([relunc(d_unc,d),r8_relunc[k]]) for k in range(len(r8_relunc))]#DONT TOUCH"
   ]
  },
  {
   "cell_type": "code",
   "execution_count": 50,
   "metadata": {},
   "outputs": [],
   "source": [
    "#creates string for latex in file kk.txt IGNORE IF NOT USING LATEX\n",
    "Str7k=[[\" & \" + f\"{lam7k[c][k]:.2f}\"+ \" $\\pm$ \"+ f\"{lam_star7k_rel[c]:.2f}\"+\"\\%\" for k in range(len(lam7k[c]))] for c in range(len(lam7k))]"
   ]
  },
  {
   "cell_type": "code",
   "execution_count": 51,
   "metadata": {},
   "outputs": [],
   "source": [
    "#creates string for latex in file kk.txt IGNORE IF NOT USING LATEX\n",
    "file2 = open(\"7KeV.txt\",\"w+\") #DONT TOUCH\n",
    "for c in range(len(Str7k)):#DONT TOUCH\n",
    "    file2.write(\"\\hline \\centering \\n\")#DONT TOUCH\n",
    "    for k in range(len(Str7k[c])):#DONT TOUCH\n",
    "        file2.write(Str7k[c][k])#DONT TOUCH\n",
    "    file2.write(\"\\\\\\\\\\n\")#DONT TOUCH\n",
    "file2.close()#DONT TOUCH"
   ]
  },
  {
   "cell_type": "code",
   "execution_count": 52,
   "metadata": {},
   "outputs": [
    {
     "name": "stdout",
     "output_type": "stream",
     "text": [
      "[False, True, False, False, False]\n"
     ]
    }
   ],
   "source": [
    "#7k consistency check, plug in the values you found were closet and its corresponding uncertainty\n",
    "lambdagood7k=[12.45, 14.79, 13.2, 15.36, 13.39]#YOU CAN TOUCH\n",
    "lambdagood7k_unc=[1.03, 1.04, 0.34, 1.27, 0.55]#YOU CAN TOUCH\n",
    "_7k_consistency_array=[consistency_check(Lambda7k,lambdagood7k[c],absunc(lambda7k_unc,Lambda7k),absunc(lambdagood7k_unc[c],lambdagood7k[c])) for c in range(len(lambdagood7k))]\n",
    "(print(_7k_consistency_array))"
   ]
  },
  {
   "cell_type": "code",
   "execution_count": 53,
   "metadata": {},
   "outputs": [],
   "source": [
    "#creates string for latex in file k.txt IGNORE IF NOT USING LATEX\n",
    "Str8k=[[\" & \" + f\"{lam8k[c][k]:.2f}\"+ \" $\\pm$ \"+ f\"{lam_star8k_rel[c]:.2f}\"+\"\\%\" for k in range(len(lam8k[c]))] for c in range(len(lam8k))]\n",
    "file2 = open(\"8KeV.txt\",\"w+\") \n",
    "for c in range(len(Str8k)):\n",
    "    file2.write(\"\\hline \\centering \\n\")\n",
    "    for k in range(len(Str8k[c])):\n",
    "        file2.write(Str8k[c][k])\n",
    "    file2.write(\"\\\\\\\\\\n\")\n",
    "file2.close()"
   ]
  },
  {
   "cell_type": "code",
   "execution_count": 56,
   "metadata": {},
   "outputs": [
    {
     "name": "stdout",
     "output_type": "stream",
     "text": [
      "[False, False, False, False, False]\n"
     ]
    }
   ],
   "source": [
    "#8k consistency check, plug in the values you found were closet and its corresponding uncertainty\n",
    "lambdagood8k=[11.9, 14.09, 12.3, 14.42, 12.4]#YOU CAN TOUCH\n",
    "lambdagood8k_unc=[0.8,0.49, 0.54, 0.4, 0.61]#YOU CAN TOUCH\n",
    "_8k_consistency_array=[consistency_check(Lambda8k,lambdagood8k[c],absunc(lambda8k_unc,Lambda8k),absunc(lambdagood8k_unc[c],lambdagood8k[c])) for c in range(len(lambdagood8k))]\n",
    "(print(_8k_consistency_array))"
   ]
  },
  {
   "cell_type": "code",
   "execution_count": 55,
   "metadata": {},
   "outputs": [
    {
     "data": {
      "text/plain": [
       "1.0300511131759948"
      ]
     },
     "execution_count": 55,
     "metadata": {},
     "output_type": "execute_result"
    }
   ],
   "source": [
    "np.sqrt(r7_relunc[0]**2+d_rel**2)"
   ]
  },
  {
   "cell_type": "code",
   "execution_count": null,
   "metadata": {},
   "outputs": [],
   "source": []
  }
 ],
 "metadata": {
  "kernelspec": {
   "display_name": "Python 3",
   "language": "python",
   "name": "python3"
  },
  "language_info": {
   "codemirror_mode": {
    "name": "ipython",
    "version": 3
   },
   "file_extension": ".py",
   "mimetype": "text/x-python",
   "name": "python",
   "nbconvert_exporter": "python",
   "pygments_lexer": "ipython3",
   "version": "3.7.3"
  }
 },
 "nbformat": 4,
 "nbformat_minor": 4
}
