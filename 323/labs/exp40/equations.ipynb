{
 "cells": [
  {
   "cell_type": "code",
   "execution_count": 4,
   "metadata": {},
   "outputs": [],
   "source": [
    "from numpy import *"
   ]
  },
  {
   "cell_type": "code",
   "execution_count": 5,
   "metadata": {},
   "outputs": [],
   "source": [
    "e = 1.6e-19"
   ]
  },
  {
   "cell_type": "code",
   "execution_count": 110,
   "metadata": {},
   "outputs": [],
   "source": [
    "# p = 762.6  # mm hg\n",
    "# rho = 859  # kg/m^3\n",
    "# rho_prime = 1.20  #kg/m^3\n",
    "# v_g = 0.0907  # mm/s\n",
    "# b = 6.17e-4  # cm^2\n",
    "# g = 9.81\n",
    "# eta = 1.83e-5  # Pa/s\n",
    "# x = 1.89  # mm\n",
    "# slope  = 0.8294\n",
    "# V = 2000\n",
    "p = 101671  # Pa\n",
    "rho = 859  # kg/m^3\n",
    "rho_prime = 1.2  #kg/m^3\n",
    "v_g = 0.0907e-3  # m/s\n",
    "b = 6.17e-8  # m^2\n",
    "g = 9.81  # m/s^2\n",
    "eta = 1.83e-5  # Kg/(m*s^2)\n",
    "x = 8e-3  # m\n",
    "slope  = 1.5\n",
    "V = 2000  # V"
   ]
  },
  {
   "cell_type": "code",
   "execution_count": 111,
   "metadata": {},
   "outputs": [],
   "source": [
    "alpha =  2*(rho-rho_prime)*g / (9*eta)\n",
    "\n",
    "bap = b * alpha / p\n",
    "\n",
    "r = (-1*bap + sqrt(bap**2+4*alpha*v_g)) / (2*alpha) \n",
    "\n",
    "m = (4/3) * pi * r**3 * (rho-rho_prime)\n",
    "\n",
    "q = m * g * x * slope / 2000"
   ]
  },
  {
   "cell_type": "code",
   "execution_count": 112,
   "metadata": {},
   "outputs": [
    {
     "data": {
      "text/plain": [
       "1.768553700385722e-19"
      ]
     },
     "execution_count": 112,
     "metadata": {},
     "output_type": "execute_result"
    }
   ],
   "source": [
    "q"
   ]
  },
  {
   "cell_type": "code",
   "execution_count": 113,
   "metadata": {},
   "outputs": [
    {
     "data": {
      "text/plain": [
       "1.6855370038572202e-20"
      ]
     },
     "execution_count": 113,
     "metadata": {},
     "output_type": "execute_result"
    }
   ],
   "source": [
    "q - 1.6e-19"
   ]
  },
  {
   "cell_type": "code",
   "execution_count": 114,
   "metadata": {},
   "outputs": [
    {
     "data": {
      "text/plain": [
       "2.193006588478295e-20"
      ]
     },
     "execution_count": 114,
     "metadata": {},
     "output_type": "execute_result"
    }
   ],
   "source": [
    "q * 0.124"
   ]
  },
  {
   "cell_type": "code",
   "execution_count": 115,
   "metadata": {},
   "outputs": [
    {
     "data": {
      "text/plain": [
       "True"
      ]
     },
     "execution_count": 115,
     "metadata": {},
     "output_type": "execute_result"
    }
   ],
   "source": [
    "q - 1.6e-19 < q * 0.124"
   ]
  },
  {
   "cell_type": "code",
   "execution_count": null,
   "metadata": {},
   "outputs": [],
   "source": []
  }
 ],
 "metadata": {
  "kernelspec": {
   "display_name": "Python 3",
   "language": "python",
   "name": "python3"
  },
  "language_info": {
   "codemirror_mode": {
    "name": "ipython",
    "version": 3
   },
   "file_extension": ".py",
   "mimetype": "text/x-python",
   "name": "python",
   "nbconvert_exporter": "python",
   "pygments_lexer": "ipython3",
   "version": "3.7.3"
  }
 },
 "nbformat": 4,
 "nbformat_minor": 4
}
